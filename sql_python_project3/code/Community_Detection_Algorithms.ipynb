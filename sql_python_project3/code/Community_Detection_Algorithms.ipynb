{
 "cells": [
  {
   "cell_type": "markdown",
   "id": "d4746f80",
   "metadata": {},
   "source": [
    "# Community Detection Algorithm"
   ]
  },
  {
   "cell_type": "markdown",
   "id": "39a36192",
   "metadata": {},
   "source": [
    "## Libraries and Set Up"
   ]
  },
  {
   "cell_type": "code",
   "execution_count": null,
   "id": "3905f8a6",
   "metadata": {},
   "outputs": [],
   "source": [
    "# If needed\n",
    "!pip install plotly\n",
    "!pip install pycountry"
   ]
  },
  {
   "cell_type": "code",
   "execution_count": 22,
   "id": "257cfc97",
   "metadata": {},
   "outputs": [],
   "source": [
    "import neo4j\n",
    "import pandas as pd\n",
    "import numpy as np\n",
    "import plotly.express as px\n",
    "import pycountry\n",
    "import copy\n",
    "from IPython.display import display, HTML\n",
    "import plotly.io as pio\n",
    "pio.renderers.default = 'notebook'"
   ]
  },
  {
   "cell_type": "code",
   "execution_count": 6,
   "id": "3dce8c4e",
   "metadata": {},
   "outputs": [],
   "source": [
    "driver = neo4j.GraphDatabase.driver(uri=\"neo4j://neo4j:7687\", auth=(\"neo4j\",\"ucb_mids_w205\"))"
   ]
  },
  {
   "cell_type": "code",
   "execution_count": 8,
   "id": "e893b9b4",
   "metadata": {},
   "outputs": [],
   "source": [
    "session = driver.session(database=\"neo4j\")"
   ]
  },
  {
   "cell_type": "code",
   "execution_count": 9,
   "id": "884cf1d8",
   "metadata": {},
   "outputs": [],
   "source": [
    "def my_neo4j_run_query_pandas(query, **kwargs):\n",
    "    \"run a query and return the results in a pandas dataframe\"\n",
    "    \n",
    "    result = session.run(query, **kwargs)\n",
    "    \n",
    "    df = pd.DataFrame([r.values() for r in result], columns=result.keys())\n",
    "    \n",
    "    return df"
   ]
  },
  {
   "cell_type": "markdown",
   "id": "b6b8d312",
   "metadata": {},
   "source": [
    "## Louvain Modularity"
   ]
  },
  {
   "cell_type": "markdown",
   "id": "0c64f953",
   "metadata": {},
   "source": [
    "### Exporter"
   ]
  },
  {
   "cell_type": "code",
   "execution_count": 180,
   "id": "7516bea1",
   "metadata": {},
   "outputs": [
    {
     "data": {
      "text/plain": [
       "<neo4j._sync.work.result.Result at 0x7f3bd29100a0>"
      ]
     },
     "execution_count": 180,
     "metadata": {},
     "output_type": "execute_result"
    }
   ],
   "source": [
    "query = \"CALL gds.graph.drop('ds_graph', false) yield graphName\"\n",
    "session.run(query)\n",
    "\n",
    "query = \"\"\"CALL gds.graph.project('ds_graph', 'Country',\n",
    "  {EXPORTS_TO: {orientation: 'NATURAL', properties: {weight_kg: {property: 'weight_kg'}}}}\n",
    ")\"\"\"\n",
    "\n",
    "session.run(query)"
   ]
  },
  {
   "cell_type": "code",
   "execution_count": 181,
   "id": "24de4ae5",
   "metadata": {},
   "outputs": [
    {
     "data": {
      "text/html": [
       "<div>\n",
       "<style scoped>\n",
       "    .dataframe tbody tr th:only-of-type {\n",
       "        vertical-align: middle;\n",
       "    }\n",
       "\n",
       "    .dataframe tbody tr th {\n",
       "        vertical-align: top;\n",
       "    }\n",
       "\n",
       "    .dataframe thead th {\n",
       "        text-align: right;\n",
       "    }\n",
       "</style>\n",
       "<table border=\"1\" class=\"dataframe\">\n",
       "  <thead>\n",
       "    <tr style=\"text-align: right;\">\n",
       "      <th></th>\n",
       "      <th>name</th>\n",
       "      <th>community</th>\n",
       "      <th>intermediate_community</th>\n",
       "    </tr>\n",
       "  </thead>\n",
       "  <tbody>\n",
       "    <tr>\n",
       "      <th>0</th>\n",
       "      <td>SU</td>\n",
       "      <td>38</td>\n",
       "      <td>[38]</td>\n",
       "    </tr>\n",
       "    <tr>\n",
       "      <th>1</th>\n",
       "      <td>KV</td>\n",
       "      <td>55</td>\n",
       "      <td>[55]</td>\n",
       "    </tr>\n",
       "    <tr>\n",
       "      <th>2</th>\n",
       "      <td>BV</td>\n",
       "      <td>141</td>\n",
       "      <td>[141]</td>\n",
       "    </tr>\n",
       "    <tr>\n",
       "      <th>3</th>\n",
       "      <td>CP</td>\n",
       "      <td>160</td>\n",
       "      <td>[160]</td>\n",
       "    </tr>\n",
       "    <tr>\n",
       "      <th>4</th>\n",
       "      <td>BI</td>\n",
       "      <td>166</td>\n",
       "      <td>[166]</td>\n",
       "    </tr>\n",
       "    <tr>\n",
       "      <th>...</th>\n",
       "      <td>...</td>\n",
       "      <td>...</td>\n",
       "      <td>...</td>\n",
       "    </tr>\n",
       "    <tr>\n",
       "      <th>257</th>\n",
       "      <td>CG</td>\n",
       "      <td>258</td>\n",
       "      <td>[258]</td>\n",
       "    </tr>\n",
       "    <tr>\n",
       "      <th>258</th>\n",
       "      <td>EE</td>\n",
       "      <td>258</td>\n",
       "      <td>[258]</td>\n",
       "    </tr>\n",
       "    <tr>\n",
       "      <th>259</th>\n",
       "      <td>GE</td>\n",
       "      <td>258</td>\n",
       "      <td>[258]</td>\n",
       "    </tr>\n",
       "    <tr>\n",
       "      <th>260</th>\n",
       "      <td>UA</td>\n",
       "      <td>258</td>\n",
       "      <td>[258]</td>\n",
       "    </tr>\n",
       "    <tr>\n",
       "      <th>261</th>\n",
       "      <td>XX</td>\n",
       "      <td>258</td>\n",
       "      <td>[258]</td>\n",
       "    </tr>\n",
       "  </tbody>\n",
       "</table>\n",
       "<p>262 rows × 3 columns</p>\n",
       "</div>"
      ],
      "text/plain": [
       "    name  community intermediate_community\n",
       "0     SU         38                   [38]\n",
       "1     KV         55                   [55]\n",
       "2     BV        141                  [141]\n",
       "3     CP        160                  [160]\n",
       "4     BI        166                  [166]\n",
       "..   ...        ...                    ...\n",
       "257   CG        258                  [258]\n",
       "258   EE        258                  [258]\n",
       "259   GE        258                  [258]\n",
       "260   UA        258                  [258]\n",
       "261   XX        258                  [258]\n",
       "\n",
       "[262 rows x 3 columns]"
      ]
     },
     "execution_count": 181,
     "metadata": {},
     "output_type": "execute_result"
    }
   ],
   "source": [
    "query = \"\"\"\n",
    "\n",
    "CALL gds.louvain.stream('ds_graph', {includeIntermediateCommunities: true, relationshipWeightProperty: 'weight_kg'})\n",
    "YIELD nodeId, communityId, intermediateCommunityIds\n",
    "RETURN gds.util.asNode(nodeId).name AS name, communityId as community, intermediateCommunityIds as intermediate_community\n",
    "ORDER BY community, name ASC\n",
    "\n",
    "\"\"\"\n",
    "\n",
    "exp = my_neo4j_run_query_pandas(query)\n",
    "exp"
   ]
  },
  {
   "cell_type": "markdown",
   "id": "35ee5e8f",
   "metadata": {},
   "source": [
    "### Importer"
   ]
  },
  {
   "cell_type": "code",
   "execution_count": 184,
   "id": "995e60fe",
   "metadata": {},
   "outputs": [
    {
     "data": {
      "text/plain": [
       "<neo4j._sync.work.result.Result at 0x7f3bdb801910>"
      ]
     },
     "execution_count": 184,
     "metadata": {},
     "output_type": "execute_result"
    }
   ],
   "source": [
    "query = \"CALL gds.graph.drop('ds_graph', false) yield graphName\"\n",
    "session.run(query)\n",
    "\n",
    "query = \"\"\"CALL gds.graph.project('ds_graph', 'Country',\n",
    "  {IMPORTS_FROM: {orientation: 'NATURAL', properties: {weight_kg: {property: 'weight_kg'}}}}\n",
    ")\"\"\"\n",
    "\n",
    "session.run(query)"
   ]
  },
  {
   "cell_type": "code",
   "execution_count": 185,
   "id": "6752d204",
   "metadata": {},
   "outputs": [
    {
     "data": {
      "text/html": [
       "<div>\n",
       "<style scoped>\n",
       "    .dataframe tbody tr th:only-of-type {\n",
       "        vertical-align: middle;\n",
       "    }\n",
       "\n",
       "    .dataframe tbody tr th {\n",
       "        vertical-align: top;\n",
       "    }\n",
       "\n",
       "    .dataframe thead th {\n",
       "        text-align: right;\n",
       "    }\n",
       "</style>\n",
       "<table border=\"1\" class=\"dataframe\">\n",
       "  <thead>\n",
       "    <tr style=\"text-align: right;\">\n",
       "      <th></th>\n",
       "      <th>name</th>\n",
       "      <th>community</th>\n",
       "      <th>intermediate_community</th>\n",
       "    </tr>\n",
       "  </thead>\n",
       "  <tbody>\n",
       "    <tr>\n",
       "      <th>0</th>\n",
       "      <td>AF</td>\n",
       "      <td>42</td>\n",
       "      <td>[24, 42]</td>\n",
       "    </tr>\n",
       "    <tr>\n",
       "      <th>1</th>\n",
       "      <td>AM</td>\n",
       "      <td>42</td>\n",
       "      <td>[24, 42]</td>\n",
       "    </tr>\n",
       "    <tr>\n",
       "      <th>2</th>\n",
       "      <td>AU</td>\n",
       "      <td>42</td>\n",
       "      <td>[24, 42]</td>\n",
       "    </tr>\n",
       "    <tr>\n",
       "      <th>3</th>\n",
       "      <td>AW</td>\n",
       "      <td>42</td>\n",
       "      <td>[24, 42]</td>\n",
       "    </tr>\n",
       "    <tr>\n",
       "      <th>4</th>\n",
       "      <td>BG</td>\n",
       "      <td>42</td>\n",
       "      <td>[24, 42]</td>\n",
       "    </tr>\n",
       "    <tr>\n",
       "      <th>...</th>\n",
       "      <td>...</td>\n",
       "      <td>...</td>\n",
       "      <td>...</td>\n",
       "    </tr>\n",
       "    <tr>\n",
       "      <th>257</th>\n",
       "      <td>XV</td>\n",
       "      <td>258</td>\n",
       "      <td>[232, 258]</td>\n",
       "    </tr>\n",
       "    <tr>\n",
       "      <th>258</th>\n",
       "      <td>YE</td>\n",
       "      <td>258</td>\n",
       "      <td>[232, 258]</td>\n",
       "    </tr>\n",
       "    <tr>\n",
       "      <th>259</th>\n",
       "      <td>YT</td>\n",
       "      <td>258</td>\n",
       "      <td>[169, 258]</td>\n",
       "    </tr>\n",
       "    <tr>\n",
       "      <th>260</th>\n",
       "      <td>YU</td>\n",
       "      <td>258</td>\n",
       "      <td>[29, 258]</td>\n",
       "    </tr>\n",
       "    <tr>\n",
       "      <th>261</th>\n",
       "      <td>ZC</td>\n",
       "      <td>258</td>\n",
       "      <td>[29, 258]</td>\n",
       "    </tr>\n",
       "  </tbody>\n",
       "</table>\n",
       "<p>262 rows × 3 columns</p>\n",
       "</div>"
      ],
      "text/plain": [
       "    name  community intermediate_community\n",
       "0     AF         42               [24, 42]\n",
       "1     AM         42               [24, 42]\n",
       "2     AU         42               [24, 42]\n",
       "3     AW         42               [24, 42]\n",
       "4     BG         42               [24, 42]\n",
       "..   ...        ...                    ...\n",
       "257   XV        258             [232, 258]\n",
       "258   YE        258             [232, 258]\n",
       "259   YT        258             [169, 258]\n",
       "260   YU        258              [29, 258]\n",
       "261   ZC        258              [29, 258]\n",
       "\n",
       "[262 rows x 3 columns]"
      ]
     },
     "execution_count": 185,
     "metadata": {},
     "output_type": "execute_result"
    }
   ],
   "source": [
    "query = \"\"\"\n",
    "\n",
    "CALL gds.louvain.stream('ds_graph', {includeIntermediateCommunities: true, relationshipWeightProperty: 'weight_kg'})\n",
    "YIELD nodeId, communityId, intermediateCommunityIds\n",
    "RETURN gds.util.asNode(nodeId).name AS name, communityId as community, intermediateCommunityIds as intermediate_community\n",
    "ORDER BY community, name ASC\n",
    "\n",
    "\"\"\"\n",
    "\n",
    "imp = my_neo4j_run_query_pandas(query)\n",
    "imp"
   ]
  },
  {
   "cell_type": "markdown",
   "id": "b2be714a",
   "metadata": {},
   "source": [
    "## Data Wrangling"
   ]
  },
  {
   "cell_type": "code",
   "execution_count": 179,
   "id": "5fffe00b",
   "metadata": {},
   "outputs": [],
   "source": [
    "# Converting Country Code for Plots\n",
    "\n",
    "def iso2_to_iso3(iso2):\n",
    "    try:\n",
    "        return pycountry.countries.get(alpha_2=iso2.upper()).alpha_3\n",
    "    except:\n",
    "        return None"
   ]
  },
  {
   "cell_type": "code",
   "execution_count": 182,
   "id": "5de8299d",
   "metadata": {},
   "outputs": [],
   "source": [
    "# Louvain Communities of Exporters\n",
    "\n",
    "exp_cleaned = copy.deepcopy(exp)\n",
    "exp_cleaned['name'] = exp_cleaned['name'].apply(iso2_to_iso3)\n",
    "exp_cleaned = exp_cleaned.dropna(subset=['name'])\n",
    "\n",
    "exp_count = exp_cleaned.groupby('community').size().reset_index().rename(columns={0:'Community Size'})\n",
    "exp_cleaned = pd.merge(exp_cleaned, exp_count, on='community', how='left')\n",
    "exp_cleaned['Community Size'] = exp_cleaned['Community Size'].astype(str)\n",
    "exp_cleaned = exp_cleaned.sort_values(by='Community Size')"
   ]
  },
  {
   "cell_type": "code",
   "execution_count": 186,
   "id": "b767340b",
   "metadata": {},
   "outputs": [],
   "source": [
    "# Louvain Communities of Importers\n",
    "\n",
    "imp_cleaned = copy.deepcopy(imp)\n",
    "imp_cleaned['name'] = imp_cleaned['name'].apply(iso2_to_iso3)\n",
    "imp_cleaned = imp_cleaned.dropna(subset=['name'])\n",
    "\n",
    "imp_count = imp_cleaned.groupby('community').size().reset_index().rename(columns={0:'Community Size'})\n",
    "imp_cleaned = pd.merge(imp_cleaned, imp_count, on='community', how='left')\n",
    "imp_cleaned['Community Size'] = imp_cleaned['Community Size'].astype(str)\n",
    "imp_cleaned = imp_cleaned.sort_values(by='Community Size')"
   ]
  },
  {
   "cell_type": "code",
   "execution_count": 187,
   "id": "28d54935",
   "metadata": {},
   "outputs": [],
   "source": [
    "# Louvain Intermediate Communities of Importers\n",
    "\n",
    "imp_sec = copy.deepcopy(imp)\n",
    "imp_sec['intermediate'] = imp_sec['intermediate_community'].apply(lambda x: x[0])\n",
    "imp_sec['name'] = imp_sec['name'].apply(iso2_to_iso3)\n",
    "imp_sec = imp_sec.dropna(subset=['name'])\n",
    "\n",
    "imp_sec_count = imp_sec.groupby('intermediate').size().reset_index().rename(columns={0:'Community Size'})\n",
    "imp_sec_cleaned = pd.merge(imp_sec, imp_sec_count, on='intermediate', how='left')\n",
    "imp_sec_cleaned['Community Size'] = imp_sec_cleaned['Community Size'].astype(str)\n",
    "imp_sec_cleaned = imp_sec_cleaned.sort_values(by='Community Size')"
   ]
  },
  {
   "cell_type": "markdown",
   "id": "5eac3f38",
   "metadata": {},
   "source": [
    "## Graphs"
   ]
  },
  {
   "cell_type": "markdown",
   "id": "2d65d341",
   "metadata": {},
   "source": [
    "Interactive graphs will not display in non-interactive environments such as GitLab. Graphs can be found in the slides folder titled the following:\n",
    "- Louvain Exporter.png\n",
    "- Louvain Importer.png\n",
    "- Louvain Importer Intermediate.png"
   ]
  },
  {
   "cell_type": "code",
   "execution_count": 190,
   "id": "f2a68efe",
   "metadata": {
    "scrolled": true
   },
   "outputs": [
    {
     "data": {
      "text/html": [
       "<div>            <script src=\"https://cdnjs.cloudflare.com/ajax/libs/mathjax/2.7.5/MathJax.js?config=TeX-AMS-MML_SVG\"></script><script type=\"text/javascript\">if (window.MathJax && window.MathJax.Hub && window.MathJax.Hub.Config) {window.MathJax.Hub.Config({SVG: {font: \"STIX-Web\"}});}</script>                    <div id=\"b270a526-286a-4074-9497-7e78ad3a8f88\" class=\"plotly-graph-div\" style=\"height:1400px; width:5000px;\"></div>            <script type=\"text/javascript\">                window.PLOTLYENV=window.PLOTLYENV || {};                                if (document.getElementById(\"b270a526-286a-4074-9497-7e78ad3a8f88\")) {                    Plotly.newPlot(                        \"b270a526-286a-4074-9497-7e78ad3a8f88\",                        [{\"colorscale\":[[0.0,\"#636efa\"],[1.0,\"#636efa\"]],\"geo\":\"geo\",\"hovertemplate\":\"Community Size=1\\u003cbr\\u003ename=%{location}\\u003cextra\\u003e\\u003c\\u002fextra\\u003e\",\"locations\":[\"BVT\",\"GLP\",\"MDA\",\"SJM\"],\"name\":\"1\",\"showlegend\":true,\"showscale\":false,\"z\":[1,1,1,1],\"type\":\"choropleth\"},{\"colorscale\":[[0.0,\"#EF553B\"],[1.0,\"#EF553B\"]],\"geo\":\"geo\",\"hovertemplate\":\"Community Size=2\\u003cbr\\u003ename=%{location}\\u003cextra\\u003e\\u003c\\u002fextra\\u003e\",\"locations\":[\"MAR\",\"SYC\",\"SSD\",\"DZA\"],\"name\":\"2\",\"showlegend\":true,\"showscale\":false,\"z\":[1,1,1,1],\"type\":\"choropleth\"},{\"colorscale\":[[0.0,\"#00cc96\"],[1.0,\"#00cc96\"]],\"geo\":\"geo\",\"hovertemplate\":\"Community Size=5\\u003cbr\\u003ename=%{location}\\u003cextra\\u003e\\u003c\\u002fextra\\u003e\",\"locations\":[\"EST\",\"COG\",\"ARM\",\"GEO\",\"UKR\"],\"name\":\"5\",\"showlegend\":true,\"showscale\":false,\"z\":[1,1,1,1,1],\"type\":\"choropleth\"},{\"colorscale\":[[0.0,\"#ab63fa\"],[1.0,\"#ab63fa\"]],\"geo\":\"geo\",\"hovertemplate\":\"Community Size=8\\u003cbr\\u003ename=%{location}\\u003cextra\\u003e\\u003c\\u002fextra\\u003e\",\"locations\":[\"CIV\",\"CAF\",\"BDI\",\"CUB\",\"TUN\",\"PSE\",\"FLK\",\"GIN\"],\"name\":\"8\",\"showlegend\":true,\"showscale\":false,\"z\":[1,1,1,1,1,1,1,1],\"type\":\"choropleth\"},{\"colorscale\":[[0.0,\"#FFA15A\"],[1.0,\"#FFA15A\"]],\"geo\":\"geo\",\"hovertemplate\":\"Community Size=22\\u003cbr\\u003ename=%{location}\\u003cextra\\u003e\\u003c\\u002fextra\\u003e\",\"locations\":[\"IRQ\",\"ARE\",\"BHR\",\"COL\",\"CZE\",\"GRC\",\"IDN\",\"IRN\",\"BRN\",\"LBN\",\"KWT\",\"VNM\",\"SGP\",\"QAT\",\"ZMB\",\"SAU\",\"OMN\",\"MYS\",\"MAC\",\"LUX\",\"POL\",\"SYR\"],\"name\":\"22\",\"showlegend\":true,\"showscale\":false,\"z\":[1,1,1,1,1,1,1,1,1,1,1,1,1,1,1,1,1,1,1,1,1,1],\"type\":\"choropleth\"},{\"colorscale\":[[0.0,\"#19d3f3\"],[1.0,\"#19d3f3\"]],\"geo\":\"geo\",\"hovertemplate\":\"Community Size=30\\u003cbr\\u003ename=%{location}\\u003cextra\\u003e\\u003c\\u002fextra\\u003e\",\"locations\":[\"GMB\",\"JOR\",\"ISL\",\"HUN\",\"GNB\",\"ARG\",\"ECU\",\"COK\",\"BLR\",\"BFA\",\"AFG\",\"GAB\",\"PRK\",\"MCO\",\"LVA\",\"TUV\",\"TLS\",\"THA\",\"LAO\",\"SVN\",\"SHN\",\"RUS\",\"SLE\",\"NOR\",\"NGA\",\"NFK\",\"MOZ\",\"MLT\",\"MMR\",\"NIU\"],\"name\":\"30\",\"showlegend\":true,\"showscale\":false,\"z\":[1,1,1,1,1,1,1,1,1,1,1,1,1,1,1,1,1,1,1,1,1,1,1,1,1,1,1,1,1,1],\"type\":\"choropleth\"},{\"colorscale\":[[0.0,\"#FF6692\"],[1.0,\"#FF6692\"]],\"geo\":\"geo\",\"hovertemplate\":\"Community Size=49\\u003cbr\\u003ename=%{location}\\u003cextra\\u003e\\u003c\\u002fextra\\u003e\",\"locations\":[\"BWA\",\"ALB\",\"AGO\",\"BIH\",\"BOL\",\"BES\",\"CPV\",\"LTU\",\"EGY\",\"MRT\",\"DJI\",\"MEX\",\"NCL\",\"NPL\",\"SPM\",\"PRY\",\"ROU\",\"SRB\",\"MTQ\",\"SDN\",\"SEN\",\"SOM\",\"STP\",\"TCD\",\"TUR\",\"UGA\",\"YEM\",\"MYT\",\"ZAF\",\"SMR\",\"MNP\",\"MUS\",\"MKD\",\"ETH\",\"GGY\",\"GIB\",\"GNQ\",\"SGS\",\"HRV\",\"MLI\",\"IND\",\"IMN\",\"LKA\",\"IOT\",\"JEY\",\"CYM\",\"LCA\",\"LIE\",\"MNE\"],\"name\":\"49\",\"showlegend\":true,\"showscale\":false,\"z\":[1,1,1,1,1,1,1,1,1,1,1,1,1,1,1,1,1,1,1,1,1,1,1,1,1,1,1,1,1,1,1,1,1,1,1,1,1,1,1,1,1,1,1,1,1,1,1,1,1],\"type\":\"choropleth\"},{\"colorscale\":[[0.0,\"#B6E880\"],[1.0,\"#B6E880\"]],\"geo\":\"geo\",\"hovertemplate\":\"Community Size=125\\u003cbr\\u003ename=%{location}\\u003cextra\\u003e\\u003c\\u002fextra\\u003e\",\"locations\":[\"HMD\",\"HND\",\"HTI\",\"IRL\",\"ISR\",\"ITA\",\"JAM\",\"JPN\",\"KEN\",\"KGZ\",\"KIR\",\"HKG\",\"COM\",\"KNA\",\"KOR\",\"KAZ\",\"LBR\",\"LSO\",\"LBY\",\"MAF\",\"MDG\",\"KHM\",\"GUY\",\"GTM\",\"MHL\",\"CMR\",\"CHN\",\"CRI\",\"CUW\",\"CXR\",\"CYP\",\"DEU\",\"DNK\",\"DMA\",\"DOM\",\"GUM\",\"ESH\",\"ESP\",\"FIN\",\"FJI\",\"FSM\",\"FRA\",\"GBR\",\"GRD\",\"GUF\",\"GHA\",\"GRL\",\"ERI\",\"MNG\",\"MDV\",\"CHL\",\"ATF\",\"TGO\",\"TJK\",\"TKL\",\"TKM\",\"TON\",\"TTO\",\"TWN\",\"TZA\",\"UMI\",\"TCA\",\"USA\",\"UZB\",\"VAT\",\"VCT\",\"VEN\",\"VGB\",\"VIR\",\"VUT\",\"WLF\",\"WSM\",\"ZWE\",\"URY\",\"MSR\",\"SWZ\",\"SLV\",\"MWI\",\"NER\",\"NIC\",\"NLD\",\"NRU\",\"NZL\",\"PAN\",\"PER\",\"PYF\",\"PNG\",\"SXM\",\"PHL\",\"PCN\",\"PRI\",\"PRT\",\"PLW\",\"REU\",\"RWA\",\"SLB\",\"SWE\",\"SVK\",\"SUR\",\"PAK\",\"CHE\",\"FRO\",\"CCK\",\"ATG\",\"AIA\",\"ATA\",\"ASM\",\"AUT\",\"AUS\",\"ABW\",\"AZE\",\"BRB\",\"AND\",\"BGD\",\"BGR\",\"BEN\",\"BLM\",\"BMU\",\"BRA\",\"BHS\",\"BTN\",\"BLZ\",\"CAN\",\"BEL\",\"COD\"],\"name\":\"125\",\"showlegend\":true,\"showscale\":false,\"z\":[1,1,1,1,1,1,1,1,1,1,1,1,1,1,1,1,1,1,1,1,1,1,1,1,1,1,1,1,1,1,1,1,1,1,1,1,1,1,1,1,1,1,1,1,1,1,1,1,1,1,1,1,1,1,1,1,1,1,1,1,1,1,1,1,1,1,1,1,1,1,1,1,1,1,1,1,1,1,1,1,1,1,1,1,1,1,1,1,1,1,1,1,1,1,1,1,1,1,1,1,1,1,1,1,1,1,1,1,1,1,1,1,1,1,1,1,1,1,1,1,1,1,1,1,1],\"type\":\"choropleth\"}],                        {\"template\":{\"data\":{\"histogram2dcontour\":[{\"type\":\"histogram2dcontour\",\"colorbar\":{\"outlinewidth\":0,\"ticks\":\"\"},\"colorscale\":[[0.0,\"#0d0887\"],[0.1111111111111111,\"#46039f\"],[0.2222222222222222,\"#7201a8\"],[0.3333333333333333,\"#9c179e\"],[0.4444444444444444,\"#bd3786\"],[0.5555555555555556,\"#d8576b\"],[0.6666666666666666,\"#ed7953\"],[0.7777777777777778,\"#fb9f3a\"],[0.8888888888888888,\"#fdca26\"],[1.0,\"#f0f921\"]]}],\"choropleth\":[{\"type\":\"choropleth\",\"colorbar\":{\"outlinewidth\":0,\"ticks\":\"\"}}],\"histogram2d\":[{\"type\":\"histogram2d\",\"colorbar\":{\"outlinewidth\":0,\"ticks\":\"\"},\"colorscale\":[[0.0,\"#0d0887\"],[0.1111111111111111,\"#46039f\"],[0.2222222222222222,\"#7201a8\"],[0.3333333333333333,\"#9c179e\"],[0.4444444444444444,\"#bd3786\"],[0.5555555555555556,\"#d8576b\"],[0.6666666666666666,\"#ed7953\"],[0.7777777777777778,\"#fb9f3a\"],[0.8888888888888888,\"#fdca26\"],[1.0,\"#f0f921\"]]}],\"heatmap\":[{\"type\":\"heatmap\",\"colorbar\":{\"outlinewidth\":0,\"ticks\":\"\"},\"colorscale\":[[0.0,\"#0d0887\"],[0.1111111111111111,\"#46039f\"],[0.2222222222222222,\"#7201a8\"],[0.3333333333333333,\"#9c179e\"],[0.4444444444444444,\"#bd3786\"],[0.5555555555555556,\"#d8576b\"],[0.6666666666666666,\"#ed7953\"],[0.7777777777777778,\"#fb9f3a\"],[0.8888888888888888,\"#fdca26\"],[1.0,\"#f0f921\"]]}],\"contourcarpet\":[{\"type\":\"contourcarpet\",\"colorbar\":{\"outlinewidth\":0,\"ticks\":\"\"}}],\"contour\":[{\"type\":\"contour\",\"colorbar\":{\"outlinewidth\":0,\"ticks\":\"\"},\"colorscale\":[[0.0,\"#0d0887\"],[0.1111111111111111,\"#46039f\"],[0.2222222222222222,\"#7201a8\"],[0.3333333333333333,\"#9c179e\"],[0.4444444444444444,\"#bd3786\"],[0.5555555555555556,\"#d8576b\"],[0.6666666666666666,\"#ed7953\"],[0.7777777777777778,\"#fb9f3a\"],[0.8888888888888888,\"#fdca26\"],[1.0,\"#f0f921\"]]}],\"surface\":[{\"type\":\"surface\",\"colorbar\":{\"outlinewidth\":0,\"ticks\":\"\"},\"colorscale\":[[0.0,\"#0d0887\"],[0.1111111111111111,\"#46039f\"],[0.2222222222222222,\"#7201a8\"],[0.3333333333333333,\"#9c179e\"],[0.4444444444444444,\"#bd3786\"],[0.5555555555555556,\"#d8576b\"],[0.6666666666666666,\"#ed7953\"],[0.7777777777777778,\"#fb9f3a\"],[0.8888888888888888,\"#fdca26\"],[1.0,\"#f0f921\"]]}],\"mesh3d\":[{\"type\":\"mesh3d\",\"colorbar\":{\"outlinewidth\":0,\"ticks\":\"\"}}],\"scatter\":[{\"fillpattern\":{\"fillmode\":\"overlay\",\"size\":10,\"solidity\":0.2},\"type\":\"scatter\"}],\"parcoords\":[{\"type\":\"parcoords\",\"line\":{\"colorbar\":{\"outlinewidth\":0,\"ticks\":\"\"}}}],\"scatterpolargl\":[{\"type\":\"scatterpolargl\",\"marker\":{\"colorbar\":{\"outlinewidth\":0,\"ticks\":\"\"}}}],\"bar\":[{\"error_x\":{\"color\":\"#2a3f5f\"},\"error_y\":{\"color\":\"#2a3f5f\"},\"marker\":{\"line\":{\"color\":\"#E5ECF6\",\"width\":0.5},\"pattern\":{\"fillmode\":\"overlay\",\"size\":10,\"solidity\":0.2}},\"type\":\"bar\"}],\"scattergeo\":[{\"type\":\"scattergeo\",\"marker\":{\"colorbar\":{\"outlinewidth\":0,\"ticks\":\"\"}}}],\"scatterpolar\":[{\"type\":\"scatterpolar\",\"marker\":{\"colorbar\":{\"outlinewidth\":0,\"ticks\":\"\"}}}],\"histogram\":[{\"marker\":{\"pattern\":{\"fillmode\":\"overlay\",\"size\":10,\"solidity\":0.2}},\"type\":\"histogram\"}],\"scattergl\":[{\"type\":\"scattergl\",\"marker\":{\"colorbar\":{\"outlinewidth\":0,\"ticks\":\"\"}}}],\"scatter3d\":[{\"type\":\"scatter3d\",\"line\":{\"colorbar\":{\"outlinewidth\":0,\"ticks\":\"\"}},\"marker\":{\"colorbar\":{\"outlinewidth\":0,\"ticks\":\"\"}}}],\"scattermap\":[{\"type\":\"scattermap\",\"marker\":{\"colorbar\":{\"outlinewidth\":0,\"ticks\":\"\"}}}],\"scattermapbox\":[{\"type\":\"scattermapbox\",\"marker\":{\"colorbar\":{\"outlinewidth\":0,\"ticks\":\"\"}}}],\"scatterternary\":[{\"type\":\"scatterternary\",\"marker\":{\"colorbar\":{\"outlinewidth\":0,\"ticks\":\"\"}}}],\"scattercarpet\":[{\"type\":\"scattercarpet\",\"marker\":{\"colorbar\":{\"outlinewidth\":0,\"ticks\":\"\"}}}],\"carpet\":[{\"aaxis\":{\"endlinecolor\":\"#2a3f5f\",\"gridcolor\":\"white\",\"linecolor\":\"white\",\"minorgridcolor\":\"white\",\"startlinecolor\":\"#2a3f5f\"},\"baxis\":{\"endlinecolor\":\"#2a3f5f\",\"gridcolor\":\"white\",\"linecolor\":\"white\",\"minorgridcolor\":\"white\",\"startlinecolor\":\"#2a3f5f\"},\"type\":\"carpet\"}],\"table\":[{\"cells\":{\"fill\":{\"color\":\"#EBF0F8\"},\"line\":{\"color\":\"white\"}},\"header\":{\"fill\":{\"color\":\"#C8D4E3\"},\"line\":{\"color\":\"white\"}},\"type\":\"table\"}],\"barpolar\":[{\"marker\":{\"line\":{\"color\":\"#E5ECF6\",\"width\":0.5},\"pattern\":{\"fillmode\":\"overlay\",\"size\":10,\"solidity\":0.2}},\"type\":\"barpolar\"}],\"pie\":[{\"automargin\":true,\"type\":\"pie\"}]},\"layout\":{\"autotypenumbers\":\"strict\",\"colorway\":[\"#636efa\",\"#EF553B\",\"#00cc96\",\"#ab63fa\",\"#FFA15A\",\"#19d3f3\",\"#FF6692\",\"#B6E880\",\"#FF97FF\",\"#FECB52\"],\"font\":{\"color\":\"#2a3f5f\"},\"hovermode\":\"closest\",\"hoverlabel\":{\"align\":\"left\"},\"paper_bgcolor\":\"white\",\"plot_bgcolor\":\"#E5ECF6\",\"polar\":{\"bgcolor\":\"#E5ECF6\",\"angularaxis\":{\"gridcolor\":\"white\",\"linecolor\":\"white\",\"ticks\":\"\"},\"radialaxis\":{\"gridcolor\":\"white\",\"linecolor\":\"white\",\"ticks\":\"\"}},\"ternary\":{\"bgcolor\":\"#E5ECF6\",\"aaxis\":{\"gridcolor\":\"white\",\"linecolor\":\"white\",\"ticks\":\"\"},\"baxis\":{\"gridcolor\":\"white\",\"linecolor\":\"white\",\"ticks\":\"\"},\"caxis\":{\"gridcolor\":\"white\",\"linecolor\":\"white\",\"ticks\":\"\"}},\"coloraxis\":{\"colorbar\":{\"outlinewidth\":0,\"ticks\":\"\"}},\"colorscale\":{\"sequential\":[[0.0,\"#0d0887\"],[0.1111111111111111,\"#46039f\"],[0.2222222222222222,\"#7201a8\"],[0.3333333333333333,\"#9c179e\"],[0.4444444444444444,\"#bd3786\"],[0.5555555555555556,\"#d8576b\"],[0.6666666666666666,\"#ed7953\"],[0.7777777777777778,\"#fb9f3a\"],[0.8888888888888888,\"#fdca26\"],[1.0,\"#f0f921\"]],\"sequentialminus\":[[0.0,\"#0d0887\"],[0.1111111111111111,\"#46039f\"],[0.2222222222222222,\"#7201a8\"],[0.3333333333333333,\"#9c179e\"],[0.4444444444444444,\"#bd3786\"],[0.5555555555555556,\"#d8576b\"],[0.6666666666666666,\"#ed7953\"],[0.7777777777777778,\"#fb9f3a\"],[0.8888888888888888,\"#fdca26\"],[1.0,\"#f0f921\"]],\"diverging\":[[0,\"#8e0152\"],[0.1,\"#c51b7d\"],[0.2,\"#de77ae\"],[0.3,\"#f1b6da\"],[0.4,\"#fde0ef\"],[0.5,\"#f7f7f7\"],[0.6,\"#e6f5d0\"],[0.7,\"#b8e186\"],[0.8,\"#7fbc41\"],[0.9,\"#4d9221\"],[1,\"#276419\"]]},\"xaxis\":{\"gridcolor\":\"white\",\"linecolor\":\"white\",\"ticks\":\"\",\"title\":{\"standoff\":15},\"zerolinecolor\":\"white\",\"automargin\":true,\"zerolinewidth\":2},\"yaxis\":{\"gridcolor\":\"white\",\"linecolor\":\"white\",\"ticks\":\"\",\"title\":{\"standoff\":15},\"zerolinecolor\":\"white\",\"automargin\":true,\"zerolinewidth\":2},\"scene\":{\"xaxis\":{\"backgroundcolor\":\"#E5ECF6\",\"gridcolor\":\"white\",\"linecolor\":\"white\",\"showbackground\":true,\"ticks\":\"\",\"zerolinecolor\":\"white\",\"gridwidth\":2},\"yaxis\":{\"backgroundcolor\":\"#E5ECF6\",\"gridcolor\":\"white\",\"linecolor\":\"white\",\"showbackground\":true,\"ticks\":\"\",\"zerolinecolor\":\"white\",\"gridwidth\":2},\"zaxis\":{\"backgroundcolor\":\"#E5ECF6\",\"gridcolor\":\"white\",\"linecolor\":\"white\",\"showbackground\":true,\"ticks\":\"\",\"zerolinecolor\":\"white\",\"gridwidth\":2}},\"shapedefaults\":{\"line\":{\"color\":\"#2a3f5f\"}},\"annotationdefaults\":{\"arrowcolor\":\"#2a3f5f\",\"arrowhead\":0,\"arrowwidth\":1},\"geo\":{\"bgcolor\":\"white\",\"landcolor\":\"#E5ECF6\",\"subunitcolor\":\"white\",\"showland\":true,\"showlakes\":true,\"lakecolor\":\"white\"},\"title\":{\"x\":0.05},\"mapbox\":{\"style\":\"light\"}}},\"geo\":{\"domain\":{\"x\":[0.0,1.0],\"y\":[0.0,1.0]},\"projection\":{\"type\":\"robinson\"},\"center\":{},\"showframe\":false,\"showcoastlines\":true},\"legend\":{\"title\":{\"text\":\"Community Size\",\"font\":{\"size\":32}},\"tracegroupgap\":0,\"font\":{\"size\":30},\"x\":0.75},\"title\":{\"text\":\"Louvain Community Detection Algorithm: Exporter Community Clusters\",\"font\":{\"size\":40},\"x\":0.525,\"xanchor\":\"center\",\"y\":0.99},\"width\":5000,\"height\":1400},                        {\"responsive\": true}                    ).then(function(){\n",
       "                            \n",
       "var gd = document.getElementById('b270a526-286a-4074-9497-7e78ad3a8f88');\n",
       "var x = new MutationObserver(function (mutations, observer) {{\n",
       "        var display = window.getComputedStyle(gd).display;\n",
       "        if (!display || display === 'none') {{\n",
       "            console.log([gd, 'removed!']);\n",
       "            Plotly.purge(gd);\n",
       "            observer.disconnect();\n",
       "        }}\n",
       "}});\n",
       "\n",
       "// Listen for the removal of the full notebook cells\n",
       "var notebookContainer = gd.closest('#notebook-container');\n",
       "if (notebookContainer) {{\n",
       "    x.observe(notebookContainer, {childList: true});\n",
       "}}\n",
       "\n",
       "// Listen for the clearing of the current output cell\n",
       "var outputEl = gd.closest('.output');\n",
       "if (outputEl) {{\n",
       "    x.observe(outputEl, {childList: true});\n",
       "}}\n",
       "\n",
       "                        })                };            </script>        </div>"
      ]
     },
     "metadata": {},
     "output_type": "display_data"
    }
   ],
   "source": [
    "# Exporter Community Clusters\n",
    "\n",
    "fig = px.choropleth(\n",
    "    exp_cleaned,\n",
    "    locations='name',     \n",
    "    color='Community Size',     \n",
    "    color_continuous_scale='Viridis',\n",
    "    projection='robinson',\n",
    "    title='Louvain Community Detection Algorithm: Exporter Community Clusters',\n",
    "    category_orders={'Community Size': \n",
    "                     sorted(exp_cleaned['Community Size'].unique(), key=lambda x: int(x))}\n",
    ")\n",
    "\n",
    "fig.update_layout(width=5000, height=1400,\n",
    "    geo=dict(showframe=False, showcoastlines=True),\n",
    "    title=dict(\n",
    "        text='Louvain Community Detection Algorithm: Exporter Community Clusters',\n",
    "        x=0.525, xanchor='center'\n",
    "        , font=dict(size=40), y=0.99),      \n",
    "    legend=dict(x=0.75, title='Community Size' ,font=dict(size=30), title_font=dict(size=32)\n",
    "    )\n",
    ")\n",
    "\n",
    "fig.show() \n",
    "\n"
   ]
  },
  {
   "cell_type": "code",
   "execution_count": 191,
   "id": "38597765",
   "metadata": {},
   "outputs": [
    {
     "data": {
      "text/html": [
       "<div>            <script src=\"https://cdnjs.cloudflare.com/ajax/libs/mathjax/2.7.5/MathJax.js?config=TeX-AMS-MML_SVG\"></script><script type=\"text/javascript\">if (window.MathJax && window.MathJax.Hub && window.MathJax.Hub.Config) {window.MathJax.Hub.Config({SVG: {font: \"STIX-Web\"}});}</script>                    <div id=\"103381f2-1e39-44e7-bfea-3c40e5c05996\" class=\"plotly-graph-div\" style=\"height:1400px; width:5000px;\"></div>            <script type=\"text/javascript\">                window.PLOTLYENV=window.PLOTLYENV || {};                                if (document.getElementById(\"103381f2-1e39-44e7-bfea-3c40e5c05996\")) {                    Plotly.newPlot(                        \"103381f2-1e39-44e7-bfea-3c40e5c05996\",                        [{\"colorscale\":[[0.0,\"#636efa\"],[1.0,\"#636efa\"]],\"geo\":\"geo\",\"hovertemplate\":\"Community Size=4\\u003cbr\\u003ename=%{location}\\u003cextra\\u003e\\u003c\\u002fextra\\u003e\",\"locations\":[\"MSR\",\"GRL\",\"AIA\",\"LCA\"],\"name\":\"4\",\"showlegend\":true,\"showscale\":false,\"z\":[1,1,1,1],\"type\":\"choropleth\"},{\"colorscale\":[[0.0,\"#EF553B\"],[1.0,\"#EF553B\"]],\"geo\":\"geo\",\"hovertemplate\":\"Community Size=56\\u003cbr\\u003ename=%{location}\\u003cextra\\u003e\\u003c\\u002fextra\\u003e\",\"locations\":[\"LTU\",\"LSO\",\"LBR\",\"KIR\",\"JOR\",\"JEY\",\"IOT\",\"ISR\",\"IRL\",\"HUN\",\"SGS\",\"GIN\",\"FRA\",\"MCO\",\"FLK\",\"CHN\",\"CHL\",\"COG\",\"BWA\",\"BEN\",\"BDI\",\"BFA\",\"BEL\",\"ASM\",\"ARG\",\"GHA\",\"MLI\",\"GIB\",\"MUS\",\"ZWE\",\"MLT\",\"ZMB\",\"ZAF\",\"VNM\",\"UGA\",\"TZA\",\"TKM\",\"THA\",\"TGO\",\"SSD\",\"SEN\",\"SLE\",\"TKL\",\"NGA\",\"SVN\",\"SGP\",\"RUS\",\"ROU\",\"QAT\",\"PRT\",\"OMN\",\"MWI\",\"NER\",\"MOZ\",\"MYS\",\"SVK\"],\"name\":\"56\",\"showlegend\":true,\"showscale\":false,\"z\":[1,1,1,1,1,1,1,1,1,1,1,1,1,1,1,1,1,1,1,1,1,1,1,1,1,1,1,1,1,1,1,1,1,1,1,1,1,1,1,1,1,1,1,1,1,1,1,1,1,1,1,1,1,1,1,1],\"type\":\"choropleth\"},{\"colorscale\":[[0.0,\"#00cc96\"],[1.0,\"#00cc96\"]],\"geo\":\"geo\",\"hovertemplate\":\"Community Size=64\\u003cbr\\u003ename=%{location}\\u003cextra\\u003e\\u003c\\u002fextra\\u003e\",\"locations\":[\"CZE\",\"GNQ\",\"DNK\",\"CUB\",\"CUW\",\"DMA\",\"GGY\",\"ESP\",\"FJI\",\"FSM\",\"GMB\",\"CMR\",\"ERI\",\"COK\",\"ABW\",\"CCK\",\"CAN\",\"BVT\",\"BTN\",\"BHS\",\"BES\",\"BOL\",\"BMU\",\"BLM\",\"BHR\",\"BGR\",\"AUS\",\"ARM\",\"GTM\",\"CAF\",\"HKG\",\"VCT\",\"PRK\",\"WSM\",\"VGB\",\"VEN\",\"URY\",\"USA\",\"TWN\",\"TON\",\"TCA\",\"SLV\",\"SOM\",\"SMR\",\"SHN\",\"SLB\",\"PRY\",\"PLW\",\"PCN\",\"PNG\",\"PYF\",\"NZL\",\"NRU\",\"NIC\",\"NFK\",\"MEX\",\"MTQ\",\"MHL\",\"LUX\",\"LIE\",\"CYM\",\"KOR\",\"KEN\",\"AFG\"],\"name\":\"64\",\"showlegend\":true,\"showscale\":false,\"z\":[1,1,1,1,1,1,1,1,1,1,1,1,1,1,1,1,1,1,1,1,1,1,1,1,1,1,1,1,1,1,1,1,1,1,1,1,1,1,1,1,1,1,1,1,1,1,1,1,1,1,1,1,1,1,1,1,1,1,1,1,1,1,1,1],\"type\":\"choropleth\"},{\"colorscale\":[[0.0,\"#ab63fa\"],[1.0,\"#ab63fa\"]],\"geo\":\"geo\",\"hovertemplate\":\"Community Size=123\\u003cbr\\u003ename=%{location}\\u003cextra\\u003e\\u003c\\u002fextra\\u003e\",\"locations\":[\"MYT\",\"FIN\",\"FRO\",\"GAB\",\"GBR\",\"GRD\",\"GEO\",\"GUF\",\"GLP\",\"GRC\",\"GUM\",\"GNB\",\"GUY\",\"HMD\",\"HND\",\"HRV\",\"HTI\",\"IDN\",\"IMN\",\"IND\",\"IRQ\",\"IRN\",\"ISL\",\"ITA\",\"JAM\",\"JPN\",\"KGZ\",\"KHM\",\"ETH\",\"COM\",\"ESH\",\"EST\",\"ARE\",\"ATG\",\"ALB\",\"AGO\",\"ATA\",\"AUT\",\"AZE\",\"BIH\",\"BRB\",\"BGD\",\"BRN\",\"BRA\",\"BLR\",\"BLZ\",\"COD\",\"CHE\",\"CIV\",\"COL\",\"CRI\",\"CPV\",\"CXR\",\"CYP\",\"DEU\",\"DJI\",\"DOM\",\"DZA\",\"ECU\",\"EGY\",\"AND\",\"KNA\",\"KAZ\",\"SRB\",\"RWA\",\"SAU\",\"SYC\",\"SDN\",\"SWE\",\"SJM\",\"SUR\",\"STP\",\"SXM\",\"SYR\",\"SWZ\",\"TCD\",\"ATF\",\"TJK\",\"TLS\",\"TUN\",\"TUR\",\"TTO\",\"TUV\",\"UKR\",\"UMI\",\"UZB\",\"VAT\",\"VIR\",\"VUT\",\"WLF\",\"REU\",\"KWT\",\"PSE\",\"SPM\",\"LAO\",\"LBN\",\"LKA\",\"LVA\",\"LBY\",\"MAR\",\"MDA\",\"MNE\",\"MAF\",\"MDG\",\"MKD\",\"MMR\",\"MNG\",\"MAC\",\"MNP\",\"MRT\",\"MDV\",\"NCL\",\"NLD\",\"NOR\",\"NPL\",\"NIU\",\"PAN\",\"PER\",\"PHL\",\"PAK\",\"POL\",\"PRI\",\"YEM\"],\"name\":\"123\",\"showlegend\":true,\"showscale\":false,\"z\":[1,1,1,1,1,1,1,1,1,1,1,1,1,1,1,1,1,1,1,1,1,1,1,1,1,1,1,1,1,1,1,1,1,1,1,1,1,1,1,1,1,1,1,1,1,1,1,1,1,1,1,1,1,1,1,1,1,1,1,1,1,1,1,1,1,1,1,1,1,1,1,1,1,1,1,1,1,1,1,1,1,1,1,1,1,1,1,1,1,1,1,1,1,1,1,1,1,1,1,1,1,1,1,1,1,1,1,1,1,1,1,1,1,1,1,1,1,1,1,1,1,1,1],\"type\":\"choropleth\"}],                        {\"template\":{\"data\":{\"histogram2dcontour\":[{\"type\":\"histogram2dcontour\",\"colorbar\":{\"outlinewidth\":0,\"ticks\":\"\"},\"colorscale\":[[0.0,\"#0d0887\"],[0.1111111111111111,\"#46039f\"],[0.2222222222222222,\"#7201a8\"],[0.3333333333333333,\"#9c179e\"],[0.4444444444444444,\"#bd3786\"],[0.5555555555555556,\"#d8576b\"],[0.6666666666666666,\"#ed7953\"],[0.7777777777777778,\"#fb9f3a\"],[0.8888888888888888,\"#fdca26\"],[1.0,\"#f0f921\"]]}],\"choropleth\":[{\"type\":\"choropleth\",\"colorbar\":{\"outlinewidth\":0,\"ticks\":\"\"}}],\"histogram2d\":[{\"type\":\"histogram2d\",\"colorbar\":{\"outlinewidth\":0,\"ticks\":\"\"},\"colorscale\":[[0.0,\"#0d0887\"],[0.1111111111111111,\"#46039f\"],[0.2222222222222222,\"#7201a8\"],[0.3333333333333333,\"#9c179e\"],[0.4444444444444444,\"#bd3786\"],[0.5555555555555556,\"#d8576b\"],[0.6666666666666666,\"#ed7953\"],[0.7777777777777778,\"#fb9f3a\"],[0.8888888888888888,\"#fdca26\"],[1.0,\"#f0f921\"]]}],\"heatmap\":[{\"type\":\"heatmap\",\"colorbar\":{\"outlinewidth\":0,\"ticks\":\"\"},\"colorscale\":[[0.0,\"#0d0887\"],[0.1111111111111111,\"#46039f\"],[0.2222222222222222,\"#7201a8\"],[0.3333333333333333,\"#9c179e\"],[0.4444444444444444,\"#bd3786\"],[0.5555555555555556,\"#d8576b\"],[0.6666666666666666,\"#ed7953\"],[0.7777777777777778,\"#fb9f3a\"],[0.8888888888888888,\"#fdca26\"],[1.0,\"#f0f921\"]]}],\"contourcarpet\":[{\"type\":\"contourcarpet\",\"colorbar\":{\"outlinewidth\":0,\"ticks\":\"\"}}],\"contour\":[{\"type\":\"contour\",\"colorbar\":{\"outlinewidth\":0,\"ticks\":\"\"},\"colorscale\":[[0.0,\"#0d0887\"],[0.1111111111111111,\"#46039f\"],[0.2222222222222222,\"#7201a8\"],[0.3333333333333333,\"#9c179e\"],[0.4444444444444444,\"#bd3786\"],[0.5555555555555556,\"#d8576b\"],[0.6666666666666666,\"#ed7953\"],[0.7777777777777778,\"#fb9f3a\"],[0.8888888888888888,\"#fdca26\"],[1.0,\"#f0f921\"]]}],\"surface\":[{\"type\":\"surface\",\"colorbar\":{\"outlinewidth\":0,\"ticks\":\"\"},\"colorscale\":[[0.0,\"#0d0887\"],[0.1111111111111111,\"#46039f\"],[0.2222222222222222,\"#7201a8\"],[0.3333333333333333,\"#9c179e\"],[0.4444444444444444,\"#bd3786\"],[0.5555555555555556,\"#d8576b\"],[0.6666666666666666,\"#ed7953\"],[0.7777777777777778,\"#fb9f3a\"],[0.8888888888888888,\"#fdca26\"],[1.0,\"#f0f921\"]]}],\"mesh3d\":[{\"type\":\"mesh3d\",\"colorbar\":{\"outlinewidth\":0,\"ticks\":\"\"}}],\"scatter\":[{\"fillpattern\":{\"fillmode\":\"overlay\",\"size\":10,\"solidity\":0.2},\"type\":\"scatter\"}],\"parcoords\":[{\"type\":\"parcoords\",\"line\":{\"colorbar\":{\"outlinewidth\":0,\"ticks\":\"\"}}}],\"scatterpolargl\":[{\"type\":\"scatterpolargl\",\"marker\":{\"colorbar\":{\"outlinewidth\":0,\"ticks\":\"\"}}}],\"bar\":[{\"error_x\":{\"color\":\"#2a3f5f\"},\"error_y\":{\"color\":\"#2a3f5f\"},\"marker\":{\"line\":{\"color\":\"#E5ECF6\",\"width\":0.5},\"pattern\":{\"fillmode\":\"overlay\",\"size\":10,\"solidity\":0.2}},\"type\":\"bar\"}],\"scattergeo\":[{\"type\":\"scattergeo\",\"marker\":{\"colorbar\":{\"outlinewidth\":0,\"ticks\":\"\"}}}],\"scatterpolar\":[{\"type\":\"scatterpolar\",\"marker\":{\"colorbar\":{\"outlinewidth\":0,\"ticks\":\"\"}}}],\"histogram\":[{\"marker\":{\"pattern\":{\"fillmode\":\"overlay\",\"size\":10,\"solidity\":0.2}},\"type\":\"histogram\"}],\"scattergl\":[{\"type\":\"scattergl\",\"marker\":{\"colorbar\":{\"outlinewidth\":0,\"ticks\":\"\"}}}],\"scatter3d\":[{\"type\":\"scatter3d\",\"line\":{\"colorbar\":{\"outlinewidth\":0,\"ticks\":\"\"}},\"marker\":{\"colorbar\":{\"outlinewidth\":0,\"ticks\":\"\"}}}],\"scattermap\":[{\"type\":\"scattermap\",\"marker\":{\"colorbar\":{\"outlinewidth\":0,\"ticks\":\"\"}}}],\"scattermapbox\":[{\"type\":\"scattermapbox\",\"marker\":{\"colorbar\":{\"outlinewidth\":0,\"ticks\":\"\"}}}],\"scatterternary\":[{\"type\":\"scatterternary\",\"marker\":{\"colorbar\":{\"outlinewidth\":0,\"ticks\":\"\"}}}],\"scattercarpet\":[{\"type\":\"scattercarpet\",\"marker\":{\"colorbar\":{\"outlinewidth\":0,\"ticks\":\"\"}}}],\"carpet\":[{\"aaxis\":{\"endlinecolor\":\"#2a3f5f\",\"gridcolor\":\"white\",\"linecolor\":\"white\",\"minorgridcolor\":\"white\",\"startlinecolor\":\"#2a3f5f\"},\"baxis\":{\"endlinecolor\":\"#2a3f5f\",\"gridcolor\":\"white\",\"linecolor\":\"white\",\"minorgridcolor\":\"white\",\"startlinecolor\":\"#2a3f5f\"},\"type\":\"carpet\"}],\"table\":[{\"cells\":{\"fill\":{\"color\":\"#EBF0F8\"},\"line\":{\"color\":\"white\"}},\"header\":{\"fill\":{\"color\":\"#C8D4E3\"},\"line\":{\"color\":\"white\"}},\"type\":\"table\"}],\"barpolar\":[{\"marker\":{\"line\":{\"color\":\"#E5ECF6\",\"width\":0.5},\"pattern\":{\"fillmode\":\"overlay\",\"size\":10,\"solidity\":0.2}},\"type\":\"barpolar\"}],\"pie\":[{\"automargin\":true,\"type\":\"pie\"}]},\"layout\":{\"autotypenumbers\":\"strict\",\"colorway\":[\"#636efa\",\"#EF553B\",\"#00cc96\",\"#ab63fa\",\"#FFA15A\",\"#19d3f3\",\"#FF6692\",\"#B6E880\",\"#FF97FF\",\"#FECB52\"],\"font\":{\"color\":\"#2a3f5f\"},\"hovermode\":\"closest\",\"hoverlabel\":{\"align\":\"left\"},\"paper_bgcolor\":\"white\",\"plot_bgcolor\":\"#E5ECF6\",\"polar\":{\"bgcolor\":\"#E5ECF6\",\"angularaxis\":{\"gridcolor\":\"white\",\"linecolor\":\"white\",\"ticks\":\"\"},\"radialaxis\":{\"gridcolor\":\"white\",\"linecolor\":\"white\",\"ticks\":\"\"}},\"ternary\":{\"bgcolor\":\"#E5ECF6\",\"aaxis\":{\"gridcolor\":\"white\",\"linecolor\":\"white\",\"ticks\":\"\"},\"baxis\":{\"gridcolor\":\"white\",\"linecolor\":\"white\",\"ticks\":\"\"},\"caxis\":{\"gridcolor\":\"white\",\"linecolor\":\"white\",\"ticks\":\"\"}},\"coloraxis\":{\"colorbar\":{\"outlinewidth\":0,\"ticks\":\"\"}},\"colorscale\":{\"sequential\":[[0.0,\"#0d0887\"],[0.1111111111111111,\"#46039f\"],[0.2222222222222222,\"#7201a8\"],[0.3333333333333333,\"#9c179e\"],[0.4444444444444444,\"#bd3786\"],[0.5555555555555556,\"#d8576b\"],[0.6666666666666666,\"#ed7953\"],[0.7777777777777778,\"#fb9f3a\"],[0.8888888888888888,\"#fdca26\"],[1.0,\"#f0f921\"]],\"sequentialminus\":[[0.0,\"#0d0887\"],[0.1111111111111111,\"#46039f\"],[0.2222222222222222,\"#7201a8\"],[0.3333333333333333,\"#9c179e\"],[0.4444444444444444,\"#bd3786\"],[0.5555555555555556,\"#d8576b\"],[0.6666666666666666,\"#ed7953\"],[0.7777777777777778,\"#fb9f3a\"],[0.8888888888888888,\"#fdca26\"],[1.0,\"#f0f921\"]],\"diverging\":[[0,\"#8e0152\"],[0.1,\"#c51b7d\"],[0.2,\"#de77ae\"],[0.3,\"#f1b6da\"],[0.4,\"#fde0ef\"],[0.5,\"#f7f7f7\"],[0.6,\"#e6f5d0\"],[0.7,\"#b8e186\"],[0.8,\"#7fbc41\"],[0.9,\"#4d9221\"],[1,\"#276419\"]]},\"xaxis\":{\"gridcolor\":\"white\",\"linecolor\":\"white\",\"ticks\":\"\",\"title\":{\"standoff\":15},\"zerolinecolor\":\"white\",\"automargin\":true,\"zerolinewidth\":2},\"yaxis\":{\"gridcolor\":\"white\",\"linecolor\":\"white\",\"ticks\":\"\",\"title\":{\"standoff\":15},\"zerolinecolor\":\"white\",\"automargin\":true,\"zerolinewidth\":2},\"scene\":{\"xaxis\":{\"backgroundcolor\":\"#E5ECF6\",\"gridcolor\":\"white\",\"linecolor\":\"white\",\"showbackground\":true,\"ticks\":\"\",\"zerolinecolor\":\"white\",\"gridwidth\":2},\"yaxis\":{\"backgroundcolor\":\"#E5ECF6\",\"gridcolor\":\"white\",\"linecolor\":\"white\",\"showbackground\":true,\"ticks\":\"\",\"zerolinecolor\":\"white\",\"gridwidth\":2},\"zaxis\":{\"backgroundcolor\":\"#E5ECF6\",\"gridcolor\":\"white\",\"linecolor\":\"white\",\"showbackground\":true,\"ticks\":\"\",\"zerolinecolor\":\"white\",\"gridwidth\":2}},\"shapedefaults\":{\"line\":{\"color\":\"#2a3f5f\"}},\"annotationdefaults\":{\"arrowcolor\":\"#2a3f5f\",\"arrowhead\":0,\"arrowwidth\":1},\"geo\":{\"bgcolor\":\"white\",\"landcolor\":\"#E5ECF6\",\"subunitcolor\":\"white\",\"showland\":true,\"showlakes\":true,\"lakecolor\":\"white\"},\"title\":{\"x\":0.05},\"mapbox\":{\"style\":\"light\"}}},\"geo\":{\"domain\":{\"x\":[0.0,1.0],\"y\":[0.0,1.0]},\"projection\":{\"type\":\"robinson\"},\"center\":{},\"showframe\":false,\"showcoastlines\":true},\"legend\":{\"title\":{\"text\":\"Community Size\",\"font\":{\"size\":32}},\"tracegroupgap\":0,\"font\":{\"size\":30},\"x\":0.75},\"title\":{\"text\":\"Louvain Community Detection Algorithm: Importer Community Clusters\",\"font\":{\"size\":40},\"x\":0.525,\"xanchor\":\"center\",\"y\":0.99},\"width\":5000,\"height\":1400},                        {\"responsive\": true}                    ).then(function(){\n",
       "                            \n",
       "var gd = document.getElementById('103381f2-1e39-44e7-bfea-3c40e5c05996');\n",
       "var x = new MutationObserver(function (mutations, observer) {{\n",
       "        var display = window.getComputedStyle(gd).display;\n",
       "        if (!display || display === 'none') {{\n",
       "            console.log([gd, 'removed!']);\n",
       "            Plotly.purge(gd);\n",
       "            observer.disconnect();\n",
       "        }}\n",
       "}});\n",
       "\n",
       "// Listen for the removal of the full notebook cells\n",
       "var notebookContainer = gd.closest('#notebook-container');\n",
       "if (notebookContainer) {{\n",
       "    x.observe(notebookContainer, {childList: true});\n",
       "}}\n",
       "\n",
       "// Listen for the clearing of the current output cell\n",
       "var outputEl = gd.closest('.output');\n",
       "if (outputEl) {{\n",
       "    x.observe(outputEl, {childList: true});\n",
       "}}\n",
       "\n",
       "                        })                };            </script>        </div>"
      ]
     },
     "metadata": {},
     "output_type": "display_data"
    }
   ],
   "source": [
    "# Importer Community Clusters\n",
    "\n",
    "fig = px.choropleth(\n",
    "    imp_cleaned,\n",
    "    locations='name',     \n",
    "    color='Community Size',     \n",
    "    #color_continuous_scale='Viridis',\n",
    "    projection='robinson',\n",
    "    title='Louvain Community Detection Algorithm: Importer Community Clusters',\n",
    "    category_orders={'Community Size': \n",
    "                     sorted(imp_cleaned['Community Size'].unique(), key=lambda x: int(x))}\n",
    ")\n",
    "\n",
    "fig.update_layout(width=5000, height=1400,\n",
    "    geo=dict(showframe=False, showcoastlines=True),\n",
    "                  \n",
    "    title=dict(\n",
    "        text='Louvain Community Detection Algorithm: Importer Community Clusters',\n",
    "        x=0.525, xanchor='center'\n",
    "        , font=dict(size=40), y=0.99),     \n",
    "    legend=dict(x=0.75, title='Community Size' ,font=dict(size=30), title_font=dict(size=32)\n",
    "    )\n",
    ")\n",
    "\n",
    "fig.show() \n"
   ]
  },
  {
   "cell_type": "code",
   "execution_count": 192,
   "id": "28fb6fc5",
   "metadata": {
    "scrolled": true
   },
   "outputs": [
    {
     "data": {
      "text/html": [
       "<div>            <script src=\"https://cdnjs.cloudflare.com/ajax/libs/mathjax/2.7.5/MathJax.js?config=TeX-AMS-MML_SVG\"></script><script type=\"text/javascript\">if (window.MathJax && window.MathJax.Hub && window.MathJax.Hub.Config) {window.MathJax.Hub.Config({SVG: {font: \"STIX-Web\"}});}</script>                    <div id=\"6e20f8a2-5582-4498-b37d-63c706321c6a\" class=\"plotly-graph-div\" style=\"height:1400px; width:5000px;\"></div>            <script type=\"text/javascript\">                window.PLOTLYENV=window.PLOTLYENV || {};                                if (document.getElementById(\"6e20f8a2-5582-4498-b37d-63c706321c6a\")) {                    Plotly.newPlot(                        \"6e20f8a2-5582-4498-b37d-63c706321c6a\",                        [{\"colorscale\":[[0.0,\"#636efa\"],[1.0,\"#636efa\"]],\"geo\":\"geo\",\"hovertemplate\":\"Community Size=1\\u003cbr\\u003ename=%{location}\\u003cextra\\u003e\\u003c\\u002fextra\\u003e\",\"locations\":[\"SGS\",\"GRL\"],\"name\":\"1\",\"showlegend\":true,\"showscale\":false,\"z\":[1,1],\"type\":\"choropleth\"},{\"colorscale\":[[0.0,\"#EF553B\"],[1.0,\"#EF553B\"]],\"geo\":\"geo\",\"hovertemplate\":\"Community Size=3\\u003cbr\\u003ename=%{location}\\u003cextra\\u003e\\u003c\\u002fextra\\u003e\",\"locations\":[\"AIA\",\"JEY\",\"GIB\",\"LCA\",\"MSR\",\"FLK\"],\"name\":\"3\",\"showlegend\":true,\"showscale\":false,\"z\":[1,1,1,1,1,1],\"type\":\"choropleth\"},{\"colorscale\":[[0.0,\"#00cc96\"],[1.0,\"#00cc96\"]],\"geo\":\"geo\",\"hovertemplate\":\"Community Size=7\\u003cbr\\u003ename=%{location}\\u003cextra\\u003e\\u003c\\u002fextra\\u003e\",\"locations\":[\"HMD\",\"SWE\",\"UKR\",\"IRN\",\"MNG\",\"NOR\",\"NLD\"],\"name\":\"7\",\"showlegend\":true,\"showscale\":false,\"z\":[1,1,1,1,1,1,1],\"type\":\"choropleth\"},{\"colorscale\":[[0.0,\"#ab63fa\"],[1.0,\"#ab63fa\"]],\"geo\":\"geo\",\"hovertemplate\":\"Community Size=10\\u003cbr\\u003ename=%{location}\\u003cextra\\u003e\\u003c\\u002fextra\\u003e\",\"locations\":[\"GHA\",\"TKL\",\"ASM\",\"LBR\",\"PRT\",\"BDI\",\"BEN\",\"KIR\",\"IOT\",\"BFA\"],\"name\":\"10\",\"showlegend\":true,\"showscale\":false,\"z\":[1,1,1,1,1,1,1,1,1,1],\"type\":\"choropleth\"},{\"colorscale\":[[0.0,\"#FFA15A\"],[1.0,\"#FFA15A\"]],\"geo\":\"geo\",\"hovertemplate\":\"Community Size=12\\u003cbr\\u003ename=%{location}\\u003cextra\\u003e\\u003c\\u002fextra\\u003e\",\"locations\":[\"NRU\",\"WSM\",\"TON\",\"SHN\",\"PCN\",\"PNG\",\"LIE\",\"LUX\",\"COK\",\"BHR\",\"BLM\",\"BTN\"],\"name\":\"12\",\"showlegend\":true,\"showscale\":false,\"z\":[1,1,1,1,1,1,1,1,1,1,1,1],\"type\":\"choropleth\"},{\"colorscale\":[[0.0,\"#19d3f3\"],[1.0,\"#19d3f3\"]],\"geo\":\"geo\",\"hovertemplate\":\"Community Size=23\\u003cbr\\u003ename=%{location}\\u003cextra\\u003e\\u003c\\u002fextra\\u003e\",\"locations\":[\"LBY\",\"CYP\",\"MAR\",\"COL\",\"CHE\",\"AUT\",\"NIU\",\"DJI\",\"AND\",\"SPM\",\"TCD\",\"TUN\",\"UMI\",\"ATA\",\"DZA\",\"MDG\",\"MYT\",\"HND\",\"IND\",\"COM\",\"FIN\",\"EGY\",\"ESH\"],\"name\":\"23\",\"showlegend\":true,\"showscale\":false,\"z\":[1,1,1,1,1,1,1,1,1,1,1,1,1,1,1,1,1,1,1,1,1,1,1],\"type\":\"choropleth\"},{\"colorscale\":[[0.0,\"#FF6692\"],[1.0,\"#FF6692\"]],\"geo\":\"geo\",\"hovertemplate\":\"Community Size=25\\u003cbr\\u003ename=%{location}\\u003cextra\\u003e\\u003c\\u002fextra\\u003e\",\"locations\":[\"TJK\",\"LBN\",\"IMN\",\"SWZ\",\"SJM\",\"RWA\",\"SRB\",\"IRQ\",\"LVA\",\"KAZ\",\"ISL\",\"EST\",\"CPV\",\"MNE\",\"MDA\",\"CXR\",\"FRO\",\"HRV\",\"GBR\",\"ALB\",\"MKD\",\"BLR\",\"BIH\",\"GRC\",\"GUF\"],\"name\":\"25\",\"showlegend\":true,\"showscale\":false,\"z\":[1,1,1,1,1,1,1,1,1,1,1,1,1,1,1,1,1,1,1,1,1,1,1,1,1],\"type\":\"choropleth\"},{\"colorscale\":[[0.0,\"#B6E880\"],[1.0,\"#B6E880\"]],\"geo\":\"geo\",\"hovertemplate\":\"Community Size=42\\u003cbr\\u003ename=%{location}\\u003cextra\\u003e\\u003c\\u002fextra\\u003e\",\"locations\":[\"QAT\",\"ROU\",\"RUS\",\"SGP\",\"SVN\",\"SVK\",\"SLE\",\"SEN\",\"ARG\",\"SSD\",\"THA\",\"TKM\",\"UGA\",\"VNM\",\"ZAF\",\"ZMB\",\"ZWE\",\"FRA\",\"TGO\",\"OMN\",\"TZA\",\"NER\",\"NGA\",\"GIN\",\"CHN\",\"HUN\",\"IRL\",\"CHL\",\"COG\",\"JOR\",\"BWA\",\"ISR\",\"LSO\",\"LTU\",\"MCO\",\"MLI\",\"MLT\",\"MUS\",\"MWI\",\"MYS\",\"BEL\",\"MOZ\"],\"name\":\"42\",\"showlegend\":true,\"showscale\":false,\"z\":[1,1,1,1,1,1,1,1,1,1,1,1,1,1,1,1,1,1,1,1,1,1,1,1,1,1,1,1,1,1,1,1,1,1,1,1,1,1,1,1,1,1],\"type\":\"choropleth\"},{\"colorscale\":[[0.0,\"#FF97FF\"],[1.0,\"#FF97FF\"]],\"geo\":\"geo\",\"hovertemplate\":\"Community Size=52\\u003cbr\\u003ename=%{location}\\u003cextra\\u003e\\u003c\\u002fextra\\u003e\",\"locations\":[\"ERI\",\"ESP\",\"FJI\",\"FSM\",\"GGY\",\"GMB\",\"KEN\",\"GTM\",\"HKG\",\"PRK\",\"DMA\",\"KOR\",\"CYM\",\"GNQ\",\"DNK\",\"BES\",\"CUW\",\"ARM\",\"MHL\",\"AUS\",\"ABW\",\"BGR\",\"BMU\",\"CZE\",\"BOL\",\"BVT\",\"CAN\",\"CCK\",\"CAF\",\"CMR\",\"CUB\",\"BHS\",\"MTQ\",\"AFG\",\"VEN\",\"PRY\",\"TWN\",\"VCT\",\"SOM\",\"PLW\",\"SMR\",\"SLV\",\"URY\",\"PYF\",\"NZL\",\"TCA\",\"NIC\",\"MEX\",\"NFK\",\"USA\",\"VGB\",\"SLB\"],\"name\":\"52\",\"showlegend\":true,\"showscale\":false,\"z\":[1,1,1,1,1,1,1,1,1,1,1,1,1,1,1,1,1,1,1,1,1,1,1,1,1,1,1,1,1,1,1,1,1,1,1,1,1,1,1,1,1,1,1,1,1,1,1,1,1,1,1,1],\"type\":\"choropleth\"},{\"colorscale\":[[0.0,\"#FECB52\"],[1.0,\"#FECB52\"]],\"geo\":\"geo\",\"hovertemplate\":\"Community Size=68\\u003cbr\\u003ename=%{location}\\u003cextra\\u003e\\u003c\\u002fextra\\u003e\",\"locations\":[\"PSE\",\"PRI\",\"REU\",\"ATG\",\"ECU\",\"PAK\",\"PHL\",\"PER\",\"PAN\",\"AGO\",\"POL\",\"ARE\",\"SXM\",\"SYC\",\"WLF\",\"VUT\",\"VIR\",\"VAT\",\"UZB\",\"TUV\",\"TTO\",\"SAU\",\"TUR\",\"ATF\",\"YEM\",\"SYR\",\"NPL\",\"STP\",\"SUR\",\"SDN\",\"TLS\",\"NCL\",\"MAC\",\"JPN\",\"JAM\",\"ITA\",\"COD\",\"CIV\",\"IDN\",\"HTI\",\"CRI\",\"MDV\",\"GUY\",\"GUM\",\"GLP\",\"DEU\",\"GRD\",\"GAB\",\"DOM\",\"ETH\",\"GNB\",\"KGZ\",\"GEO\",\"KHM\",\"MRT\",\"MNP\",\"MMR\",\"MAF\",\"AZE\",\"BRB\",\"BRN\",\"BGD\",\"BRA\",\"LAO\",\"KWT\",\"KNA\",\"BLZ\",\"LKA\"],\"name\":\"68\",\"showlegend\":true,\"showscale\":false,\"z\":[1,1,1,1,1,1,1,1,1,1,1,1,1,1,1,1,1,1,1,1,1,1,1,1,1,1,1,1,1,1,1,1,1,1,1,1,1,1,1,1,1,1,1,1,1,1,1,1,1,1,1,1,1,1,1,1,1,1,1,1,1,1,1,1,1,1,1,1],\"type\":\"choropleth\"}],                        {\"template\":{\"data\":{\"histogram2dcontour\":[{\"type\":\"histogram2dcontour\",\"colorbar\":{\"outlinewidth\":0,\"ticks\":\"\"},\"colorscale\":[[0.0,\"#0d0887\"],[0.1111111111111111,\"#46039f\"],[0.2222222222222222,\"#7201a8\"],[0.3333333333333333,\"#9c179e\"],[0.4444444444444444,\"#bd3786\"],[0.5555555555555556,\"#d8576b\"],[0.6666666666666666,\"#ed7953\"],[0.7777777777777778,\"#fb9f3a\"],[0.8888888888888888,\"#fdca26\"],[1.0,\"#f0f921\"]]}],\"choropleth\":[{\"type\":\"choropleth\",\"colorbar\":{\"outlinewidth\":0,\"ticks\":\"\"}}],\"histogram2d\":[{\"type\":\"histogram2d\",\"colorbar\":{\"outlinewidth\":0,\"ticks\":\"\"},\"colorscale\":[[0.0,\"#0d0887\"],[0.1111111111111111,\"#46039f\"],[0.2222222222222222,\"#7201a8\"],[0.3333333333333333,\"#9c179e\"],[0.4444444444444444,\"#bd3786\"],[0.5555555555555556,\"#d8576b\"],[0.6666666666666666,\"#ed7953\"],[0.7777777777777778,\"#fb9f3a\"],[0.8888888888888888,\"#fdca26\"],[1.0,\"#f0f921\"]]}],\"heatmap\":[{\"type\":\"heatmap\",\"colorbar\":{\"outlinewidth\":0,\"ticks\":\"\"},\"colorscale\":[[0.0,\"#0d0887\"],[0.1111111111111111,\"#46039f\"],[0.2222222222222222,\"#7201a8\"],[0.3333333333333333,\"#9c179e\"],[0.4444444444444444,\"#bd3786\"],[0.5555555555555556,\"#d8576b\"],[0.6666666666666666,\"#ed7953\"],[0.7777777777777778,\"#fb9f3a\"],[0.8888888888888888,\"#fdca26\"],[1.0,\"#f0f921\"]]}],\"contourcarpet\":[{\"type\":\"contourcarpet\",\"colorbar\":{\"outlinewidth\":0,\"ticks\":\"\"}}],\"contour\":[{\"type\":\"contour\",\"colorbar\":{\"outlinewidth\":0,\"ticks\":\"\"},\"colorscale\":[[0.0,\"#0d0887\"],[0.1111111111111111,\"#46039f\"],[0.2222222222222222,\"#7201a8\"],[0.3333333333333333,\"#9c179e\"],[0.4444444444444444,\"#bd3786\"],[0.5555555555555556,\"#d8576b\"],[0.6666666666666666,\"#ed7953\"],[0.7777777777777778,\"#fb9f3a\"],[0.8888888888888888,\"#fdca26\"],[1.0,\"#f0f921\"]]}],\"surface\":[{\"type\":\"surface\",\"colorbar\":{\"outlinewidth\":0,\"ticks\":\"\"},\"colorscale\":[[0.0,\"#0d0887\"],[0.1111111111111111,\"#46039f\"],[0.2222222222222222,\"#7201a8\"],[0.3333333333333333,\"#9c179e\"],[0.4444444444444444,\"#bd3786\"],[0.5555555555555556,\"#d8576b\"],[0.6666666666666666,\"#ed7953\"],[0.7777777777777778,\"#fb9f3a\"],[0.8888888888888888,\"#fdca26\"],[1.0,\"#f0f921\"]]}],\"mesh3d\":[{\"type\":\"mesh3d\",\"colorbar\":{\"outlinewidth\":0,\"ticks\":\"\"}}],\"scatter\":[{\"fillpattern\":{\"fillmode\":\"overlay\",\"size\":10,\"solidity\":0.2},\"type\":\"scatter\"}],\"parcoords\":[{\"type\":\"parcoords\",\"line\":{\"colorbar\":{\"outlinewidth\":0,\"ticks\":\"\"}}}],\"scatterpolargl\":[{\"type\":\"scatterpolargl\",\"marker\":{\"colorbar\":{\"outlinewidth\":0,\"ticks\":\"\"}}}],\"bar\":[{\"error_x\":{\"color\":\"#2a3f5f\"},\"error_y\":{\"color\":\"#2a3f5f\"},\"marker\":{\"line\":{\"color\":\"#E5ECF6\",\"width\":0.5},\"pattern\":{\"fillmode\":\"overlay\",\"size\":10,\"solidity\":0.2}},\"type\":\"bar\"}],\"scattergeo\":[{\"type\":\"scattergeo\",\"marker\":{\"colorbar\":{\"outlinewidth\":0,\"ticks\":\"\"}}}],\"scatterpolar\":[{\"type\":\"scatterpolar\",\"marker\":{\"colorbar\":{\"outlinewidth\":0,\"ticks\":\"\"}}}],\"histogram\":[{\"marker\":{\"pattern\":{\"fillmode\":\"overlay\",\"size\":10,\"solidity\":0.2}},\"type\":\"histogram\"}],\"scattergl\":[{\"type\":\"scattergl\",\"marker\":{\"colorbar\":{\"outlinewidth\":0,\"ticks\":\"\"}}}],\"scatter3d\":[{\"type\":\"scatter3d\",\"line\":{\"colorbar\":{\"outlinewidth\":0,\"ticks\":\"\"}},\"marker\":{\"colorbar\":{\"outlinewidth\":0,\"ticks\":\"\"}}}],\"scattermap\":[{\"type\":\"scattermap\",\"marker\":{\"colorbar\":{\"outlinewidth\":0,\"ticks\":\"\"}}}],\"scattermapbox\":[{\"type\":\"scattermapbox\",\"marker\":{\"colorbar\":{\"outlinewidth\":0,\"ticks\":\"\"}}}],\"scatterternary\":[{\"type\":\"scatterternary\",\"marker\":{\"colorbar\":{\"outlinewidth\":0,\"ticks\":\"\"}}}],\"scattercarpet\":[{\"type\":\"scattercarpet\",\"marker\":{\"colorbar\":{\"outlinewidth\":0,\"ticks\":\"\"}}}],\"carpet\":[{\"aaxis\":{\"endlinecolor\":\"#2a3f5f\",\"gridcolor\":\"white\",\"linecolor\":\"white\",\"minorgridcolor\":\"white\",\"startlinecolor\":\"#2a3f5f\"},\"baxis\":{\"endlinecolor\":\"#2a3f5f\",\"gridcolor\":\"white\",\"linecolor\":\"white\",\"minorgridcolor\":\"white\",\"startlinecolor\":\"#2a3f5f\"},\"type\":\"carpet\"}],\"table\":[{\"cells\":{\"fill\":{\"color\":\"#EBF0F8\"},\"line\":{\"color\":\"white\"}},\"header\":{\"fill\":{\"color\":\"#C8D4E3\"},\"line\":{\"color\":\"white\"}},\"type\":\"table\"}],\"barpolar\":[{\"marker\":{\"line\":{\"color\":\"#E5ECF6\",\"width\":0.5},\"pattern\":{\"fillmode\":\"overlay\",\"size\":10,\"solidity\":0.2}},\"type\":\"barpolar\"}],\"pie\":[{\"automargin\":true,\"type\":\"pie\"}]},\"layout\":{\"autotypenumbers\":\"strict\",\"colorway\":[\"#636efa\",\"#EF553B\",\"#00cc96\",\"#ab63fa\",\"#FFA15A\",\"#19d3f3\",\"#FF6692\",\"#B6E880\",\"#FF97FF\",\"#FECB52\"],\"font\":{\"color\":\"#2a3f5f\"},\"hovermode\":\"closest\",\"hoverlabel\":{\"align\":\"left\"},\"paper_bgcolor\":\"white\",\"plot_bgcolor\":\"#E5ECF6\",\"polar\":{\"bgcolor\":\"#E5ECF6\",\"angularaxis\":{\"gridcolor\":\"white\",\"linecolor\":\"white\",\"ticks\":\"\"},\"radialaxis\":{\"gridcolor\":\"white\",\"linecolor\":\"white\",\"ticks\":\"\"}},\"ternary\":{\"bgcolor\":\"#E5ECF6\",\"aaxis\":{\"gridcolor\":\"white\",\"linecolor\":\"white\",\"ticks\":\"\"},\"baxis\":{\"gridcolor\":\"white\",\"linecolor\":\"white\",\"ticks\":\"\"},\"caxis\":{\"gridcolor\":\"white\",\"linecolor\":\"white\",\"ticks\":\"\"}},\"coloraxis\":{\"colorbar\":{\"outlinewidth\":0,\"ticks\":\"\"}},\"colorscale\":{\"sequential\":[[0.0,\"#0d0887\"],[0.1111111111111111,\"#46039f\"],[0.2222222222222222,\"#7201a8\"],[0.3333333333333333,\"#9c179e\"],[0.4444444444444444,\"#bd3786\"],[0.5555555555555556,\"#d8576b\"],[0.6666666666666666,\"#ed7953\"],[0.7777777777777778,\"#fb9f3a\"],[0.8888888888888888,\"#fdca26\"],[1.0,\"#f0f921\"]],\"sequentialminus\":[[0.0,\"#0d0887\"],[0.1111111111111111,\"#46039f\"],[0.2222222222222222,\"#7201a8\"],[0.3333333333333333,\"#9c179e\"],[0.4444444444444444,\"#bd3786\"],[0.5555555555555556,\"#d8576b\"],[0.6666666666666666,\"#ed7953\"],[0.7777777777777778,\"#fb9f3a\"],[0.8888888888888888,\"#fdca26\"],[1.0,\"#f0f921\"]],\"diverging\":[[0,\"#8e0152\"],[0.1,\"#c51b7d\"],[0.2,\"#de77ae\"],[0.3,\"#f1b6da\"],[0.4,\"#fde0ef\"],[0.5,\"#f7f7f7\"],[0.6,\"#e6f5d0\"],[0.7,\"#b8e186\"],[0.8,\"#7fbc41\"],[0.9,\"#4d9221\"],[1,\"#276419\"]]},\"xaxis\":{\"gridcolor\":\"white\",\"linecolor\":\"white\",\"ticks\":\"\",\"title\":{\"standoff\":15},\"zerolinecolor\":\"white\",\"automargin\":true,\"zerolinewidth\":2},\"yaxis\":{\"gridcolor\":\"white\",\"linecolor\":\"white\",\"ticks\":\"\",\"title\":{\"standoff\":15},\"zerolinecolor\":\"white\",\"automargin\":true,\"zerolinewidth\":2},\"scene\":{\"xaxis\":{\"backgroundcolor\":\"#E5ECF6\",\"gridcolor\":\"white\",\"linecolor\":\"white\",\"showbackground\":true,\"ticks\":\"\",\"zerolinecolor\":\"white\",\"gridwidth\":2},\"yaxis\":{\"backgroundcolor\":\"#E5ECF6\",\"gridcolor\":\"white\",\"linecolor\":\"white\",\"showbackground\":true,\"ticks\":\"\",\"zerolinecolor\":\"white\",\"gridwidth\":2},\"zaxis\":{\"backgroundcolor\":\"#E5ECF6\",\"gridcolor\":\"white\",\"linecolor\":\"white\",\"showbackground\":true,\"ticks\":\"\",\"zerolinecolor\":\"white\",\"gridwidth\":2}},\"shapedefaults\":{\"line\":{\"color\":\"#2a3f5f\"}},\"annotationdefaults\":{\"arrowcolor\":\"#2a3f5f\",\"arrowhead\":0,\"arrowwidth\":1},\"geo\":{\"bgcolor\":\"white\",\"landcolor\":\"#E5ECF6\",\"subunitcolor\":\"white\",\"showland\":true,\"showlakes\":true,\"lakecolor\":\"white\"},\"title\":{\"x\":0.05},\"mapbox\":{\"style\":\"light\"}}},\"geo\":{\"domain\":{\"x\":[0.0,1.0],\"y\":[0.0,1.0]},\"projection\":{\"type\":\"robinson\"},\"center\":{},\"showframe\":false,\"showcoastlines\":true},\"legend\":{\"title\":{\"text\":\"Community Size\",\"font\":{\"size\":32}},\"tracegroupgap\":0,\"font\":{\"size\":30},\"x\":0.75},\"title\":{\"text\":\"Louvain Community Detection Algorithm: Importer Intermediate Community Clusters\",\"font\":{\"size\":40},\"x\":0.525,\"xanchor\":\"center\",\"y\":0.99},\"width\":5000,\"height\":1400},                        {\"responsive\": true}                    ).then(function(){\n",
       "                            \n",
       "var gd = document.getElementById('6e20f8a2-5582-4498-b37d-63c706321c6a');\n",
       "var x = new MutationObserver(function (mutations, observer) {{\n",
       "        var display = window.getComputedStyle(gd).display;\n",
       "        if (!display || display === 'none') {{\n",
       "            console.log([gd, 'removed!']);\n",
       "            Plotly.purge(gd);\n",
       "            observer.disconnect();\n",
       "        }}\n",
       "}});\n",
       "\n",
       "// Listen for the removal of the full notebook cells\n",
       "var notebookContainer = gd.closest('#notebook-container');\n",
       "if (notebookContainer) {{\n",
       "    x.observe(notebookContainer, {childList: true});\n",
       "}}\n",
       "\n",
       "// Listen for the clearing of the current output cell\n",
       "var outputEl = gd.closest('.output');\n",
       "if (outputEl) {{\n",
       "    x.observe(outputEl, {childList: true});\n",
       "}}\n",
       "\n",
       "                        })                };            </script>        </div>"
      ]
     },
     "metadata": {},
     "output_type": "display_data"
    }
   ],
   "source": [
    "# Importer Intermediate Community Clusters\n",
    "\n",
    "fig = px.choropleth(\n",
    "    imp_sec_cleaned,\n",
    "    locations='name',     \n",
    "    color='Community Size',     \n",
    "    projection='robinson',\n",
    "    title='Louvain Community Detection Algorithm:<br>Importer Intermediate Community Clusters',\n",
    "    category_orders={'Community Size': \n",
    "                     sorted(imp_sec_cleaned['Community Size'].unique(), key=lambda x: int(x))}\n",
    ")\n",
    "\n",
    "fig.update_layout(width=5000, height=1400,\n",
    "    geo=dict(showframe=False, showcoastlines=True),\n",
    "    title=dict(\n",
    "        text='Louvain Community Detection Algorithm: Importer Intermediate Community Clusters',\n",
    "        x=0.525, xanchor='center'\n",
    "        , font=dict(size=40), y=0.99),\n",
    "    legend=dict(x=0.75, title='Community Size' ,font=dict(size=30), title_font=dict(size=32)\n",
    "   )\n",
    ")\n",
    "\n",
    "fig.show() \n"
   ]
  }
 ],
 "metadata": {
  "kernelspec": {
   "display_name": "Python 3 (ipykernel)",
   "language": "python",
   "name": "python3"
  },
  "language_info": {
   "codemirror_mode": {
    "name": "ipython",
    "version": 3
   },
   "file_extension": ".py",
   "mimetype": "text/x-python",
   "name": "python",
   "nbconvert_exporter": "python",
   "pygments_lexer": "ipython3",
   "version": "3.9.7"
  }
 },
 "nbformat": 4,
 "nbformat_minor": 5
}
