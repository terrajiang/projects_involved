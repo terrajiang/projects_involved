{
 "cells": [
  {
   "cell_type": "markdown",
   "id": "3f465500",
   "metadata": {},
   "source": [
    "# Project 2, Part 7, Analysis on continuing to withhold customer data from 3rd parties\n",
    "\n",
    "University of California, Berkeley\n",
    "\n",
    "Master of Information and Data Science (MIDS) program\n",
    "\n",
    "w205 - Fundamentals of Data Engineering\n"
   ]
  },
  {
   "cell_type": "markdown",
   "id": "1cf92eab",
   "metadata": {},
   "source": [
    "# 2.7 Analysis on continuing to withhold customer data from 3rd parties\n",
    "\n",
    "As stated in the scenario, like most companies, AGM does not want to give out its customer list to 3rd party sales channels.  The downside is, as we have seen, that customer first names, last names, and street addresses will have some variations and not be exact matches.\n",
    "\n",
    "The data science team would like your analysis of both options:\n",
    "\n",
    "1)  Continue to withhold the customer data from 3rd party sales channels\n",
    "\n",
    "2)  Give customer data to 3rd party sales channels\n",
    "\n",
    "The data science team would also like your recommendation on which option you think is best.  \n",
    "\n",
    "In the markdown cell, you must provide:\n",
    "* A meaningful title\n",
    "* Write a brief paragraph for option 1.\n",
    "* Write a brief paragraph for option 2.\n",
    "* Write a brief paragraph with your recommendation, which must be either option 1 or option 2, you cannot recommend something else.\n",
    "\n",
    "Put the title and all 3 paragraphs in a single markdown cell.\n",
    "\n",
    "You are not required to write any queries nor any code nor create any data visualizations.  Simply provide English text.\n"
   ]
  },
  {
   "attachments": {},
   "cell_type": "markdown",
   "id": "c8086a63",
   "metadata": {},
   "source": [
    "# Long-Term Gains, Short-Term Pains: Withholding Data the Smart Way\n",
    "\n",
    "Continuing to withhold customer data from third-party sales channels protects customers’ privacy and trust in the brand while enabling full operational efficiency before achieving proof of success in the POC. Although the data shows a 13.4% mismatch rate from the first-day-of-sale data, the mismatch cases were primarily due to minor inconsistencies in customer and street names. These mismatches are correctable by deploying auto input correction and are promising to improve over time. Lastly and most importantly, management explicitly states a preference for avoiding the building of APIs and spending on data integration costs; such an opinion should be prioritized and taken into consideration. \n",
    "\n",
    "Switching to a new strategy and starting to provide customer data to third-party sales channels can be beneficial to the business. With only the first day of sales data, it is not guaranteed that the mismatched customer data cases will be improved over time. In this case, a considerable amount of expense will be required to regularly clean and control the accuracy of the dataset. Therefore, providing customer data to third-party sales channels can guarantee a nearly perfect data representation and matching status. \n",
    "\n",
    "Among the two options, option 1 (continuing to withhold customer data from third-party sales channels) should be favored to maintain good customer relationships. Under circumstances of cyberattack or mismanagement, the exposure of customer privacy can harm the brand's reputation and significantly erode customer trust. Conversely, withholding customer data can be a good business practice for controlling sensitive information. By examining the first-day-of-sale data, a mismatch rate of 13.4% is not negligible. However, even if the mismatch rate increases in the following days, it’s safe to say that the long-term behavior of mismatch status is a predictable and manageable challenge. A higher level of accuracy can be achieved over time, and fewer sacrificial assumptions can be made. This concept applies a forward-thinking business practice, whereby the foreseen nature is more valuable and crucial compared to short-term, unfavored data."
   ]
  },
  {
   "cell_type": "code",
   "execution_count": null,
   "id": "b8c59d2b",
   "metadata": {},
   "outputs": [],
   "source": []
  }
 ],
 "metadata": {
  "kernelspec": {
   "display_name": "Python 3 (ipykernel)",
   "language": "python",
   "name": "python3"
  },
  "language_info": {
   "codemirror_mode": {
    "name": "ipython",
    "version": 3
   },
   "file_extension": ".py",
   "mimetype": "text/x-python",
   "name": "python",
   "nbconvert_exporter": "python",
   "pygments_lexer": "ipython3",
   "version": "3.9.7"
  }
 },
 "nbformat": 4,
 "nbformat_minor": 5
}
