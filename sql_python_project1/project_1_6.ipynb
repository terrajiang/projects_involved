{
 "cells": [
  {
   "cell_type": "markdown",
   "id": "cd11da2a",
   "metadata": {},
   "source": [
    "# Project 1, Part 6, Identifying Best Customers\n"
   ]
  },
  {
   "cell_type": "markdown",
   "id": "701f1c25",
   "metadata": {},
   "source": [
    "# 1.6 Ideas on how the sales data can be used to help identify best customers\n",
    "\n",
    "The data science team would like to know your best ideas on how the sales data can be used to help identify the company's best customers.\n",
    "\n",
    "\n",
    "\n",
    "They are going to start with the most common and most basic model known as RFM, which consists of the 3 dimensions.\n",
    "\n",
    "* R - Recency - How recently did the customer purchase?\n",
    "\n",
    "* F - Frequency - How often do they purchase?\n",
    "\n",
    "* M - Monetary Value - How much do they spend?\n",
    "\n",
    "\n",
    "\n",
    "At first glance, it's pretty easy to think of a simple query for each dimension.\n",
    "\n",
    "However, after some thought, it's not quite so easy. It's very open ended, with a lot of grey areas, and no single right or wrong answer (just like 99% of data science and AI!)  For each dimension, there can be some pretty complex ways to determine.\n",
    "\n",
    "The data science team also has to come up with a way to synthesize the 3 dimensions into a single customer value for each customer.\n",
    "\n",
    "\n",
    "\n",
    "The data science team would like for you to present your ideas in the form of a title and 4 paragraphs as follows:\n",
    "\n",
    "* Title - A title describing what you will be explaining\n",
    "\n",
    "* Recency - A brief paragraph explaining your ideas on how the data can be used to determine recency.  \n",
    "\n",
    "* Frequency - A brief paragraph explaining your ideas on how the data can be used to determine frequency.\n",
    "\n",
    "* Monetary Value - A brief paragraph explaining your ideas on how the data can be used to determine monetary value.\n",
    "\n",
    "* Synthesis - A brief paragraph explaining your ideas on how to synthesize the 3 dimensions of recency, frequency, and monetary value into a customer value for each customer and how to determine who the best customers are.\n",
    "\n",
    "\n",
    "\n",
    "Put the title and all 4 paragraphs in a single markdown cell.\n",
    "\n",
    "Note that you do not write code for this, only english language descriptions of your ideas.\n",
    "\n"
   ]
  },
  {
   "cell_type": "markdown",
   "id": "67dd986f",
   "metadata": {},
   "source": [
    "# Polishing The Gem: Identifying The Shiniest Customers\n",
    "\n",
    "Customers who purchased recently are more likely to return in the future. \n",
    "We can consider segmenting customer data into five tiers based on the most recent purchase (e.g., within the past two weeks, the past month, 2-3 months ago, 3-6 months ago, and over 6 months) and assign higher scores to the data within more recent time segments. \n",
    "Therefore, customers who have made more recent purchases will be viewed as more important to the business.  \n",
    "  \n",
    "The data of customers with higher purchase frequencies demonstrates steady trust in the business and therefore helps predict future patterns. \n",
    "We can compute the time-weighted purchase counts for each transaction, where a higher score indicates greater importance to the business. \n",
    "However, the weight of the time should be periodically adjusted according to seasonal performance so that customers who purchase more in the hot season are not wrongly counted as more important.  \n",
    "  \n",
    "Monetary value can be determined by comparing the overall expense during the customer's lifespan, the average purchase amount per order, and the contribution variability. \n",
    "Customers with only a few big purchases can be a good source of financial support, but are temporary. \n",
    "Nevertheless, among customers with the same overall expense, those with more evenly spread patterns demonstrate a higher potential for assisting steady business growth.  \n",
    "  \n",
    "A complete customer value should possess all three RFM dimensions of the business. \n",
    "A customer with a higher recency value reflects the activeness of their purchases. \n",
    "A customer with a higher frequency of purchases demonstrates loyalty and is more likely to remain with the brand in the future. \n",
    "A customer with a high monetary value can significantly contribute to both the short-term and long-term financial sustainability of the business. \n",
    "However, the RFM diagram can be limited due to customers' subjective satisfaction levels, the distance of their residence, seasonal peaks, the graduation of students, and others. \n",
    "Therefore, determining valuable customers should not be limited to consistent spending across multiple periods in the past, but also other contributing factors."
   ]
  },
  {
   "cell_type": "code",
   "execution_count": null,
   "id": "c4e9b7c3",
   "metadata": {},
   "outputs": [],
   "source": []
  }
 ],
 "metadata": {
  "kernelspec": {
   "display_name": "Python 3 (ipykernel)",
   "language": "python",
   "name": "python3"
  },
  "language_info": {
   "codemirror_mode": {
    "name": "ipython",
    "version": 3
   },
   "file_extension": ".py",
   "mimetype": "text/x-python",
   "name": "python",
   "nbconvert_exporter": "python",
   "pygments_lexer": "ipython3",
   "version": "3.9.7"
  }
 },
 "nbformat": 4,
 "nbformat_minor": 5
}
